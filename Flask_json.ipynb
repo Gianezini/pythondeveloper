{
 "cells": [
  {
   "cell_type": "code",
   "execution_count": null,
   "metadata": {},
   "outputs": [],
   "source": [
    "from fastapi import FastAPI\n",
    "from pyngrok import ngrok\n",
    "import uvicorn\n",
    "import pandas as pd\n",
    "\n",
    "app = FastAPI()\n",
    "\n",
    "data = {\n",
    "    'Number': [1, 2, 3, 4, 5],\n",
    "    'Name': ['Mahesh', 'Alex', 'David', 'John', 'Chris'],\n",
    "    'Age': [25, 26, 27, 28, 29],\n",
    "    'City': ['Bangalore', 'London', 'San Francisco', 'Toronto', 'Paris'],\n",
    "    'Country': ['India', 'UK', 'USA', 'Canada', 'France']\n",
    "}\n",
    "\n",
    "df = pd.DataFrame(data)\n",
    "\n",
    "@app.get('/index')\n",
    "async def home():\n",
    "    return df.to_dict(orient='records')\n",
    "\n",
    "ngrok_tunnel = ngrok.connect(8000)\n",
    "print('Public URL:', ngrok_tunnel.public_url)\n",
    "uvicorn.run(app, port=8000)\n"
   ]
  }
 ],
 "metadata": {
  "kernelspec": {
   "display_name": "Python 3",
   "language": "python",
   "name": "python3"
  },
  "language_info": {
   "codemirror_mode": {
    "name": "ipython",
    "version": 3
   },
   "file_extension": ".py",
   "mimetype": "text/x-python",
   "name": "python",
   "nbconvert_exporter": "python",
   "pygments_lexer": "ipython3",
   "version": "3.11.7"
  }
 },
 "nbformat": 4,
 "nbformat_minor": 2
}
